{
 "cells": [
  {
   "cell_type": "code",
   "execution_count": 85,
   "id": "f27be6f9",
   "metadata": {},
   "outputs": [],
   "source": [
    "import numpy as np\n",
    "import pandas as pd\n",
    "import json\n",
    "import os\n",
    "from collections import defaultdict\n",
    "import warnings"
   ]
  },
  {
   "cell_type": "markdown",
   "id": "312bacdd",
   "metadata": {},
   "source": [
    "## Inspection"
   ]
  },
  {
   "cell_type": "code",
   "execution_count": 16,
   "id": "196a00b7",
   "metadata": {},
   "outputs": [],
   "source": [
    "indices = np.load(\"/home/vessl/projects/dynamic-cdfsl/data/cache_cdfsl/ChestX_indices.npy\", allow_pickle=True)\n",
    "train_indices = np.load(\"/home/vessl/projects/dynamic-cdfsl/data/cache_cdfsl/ChestX_indices_partial_train_0.2_0.npy\", allow_pickle=True)\n",
    "test_indices = np.load(\"/home/vessl/projects/dynamic-cdfsl/data/cache_cdfsl/ChestX_indices_partial_test_0.2_0.npy\", allow_pickle=True)"
   ]
  },
  {
   "cell_type": "code",
   "execution_count": 27,
   "id": "1b0f29ba",
   "metadata": {},
   "outputs": [],
   "source": [
    "full = indices.item()[0]"
   ]
  },
  {
   "cell_type": "code",
   "execution_count": 28,
   "id": "ea7f066f",
   "metadata": {
    "scrolled": true
   },
   "outputs": [],
   "source": [
    "tr = train_indices.item()[0]\n",
    "te = test_indices.item()[0]"
   ]
  },
  {
   "cell_type": "code",
   "execution_count": 41,
   "id": "ee71d804",
   "metadata": {},
   "outputs": [
    {
     "data": {
      "text/plain": [
       "(4215, 4215)"
      ]
     },
     "execution_count": 41,
     "metadata": {},
     "output_type": "execute_result"
    }
   ],
   "source": [
    "len(full), len(tr) + len(te)"
   ]
  },
  {
   "cell_type": "code",
   "execution_count": 31,
   "id": "0f173db3",
   "metadata": {},
   "outputs": [
    {
     "data": {
      "text/plain": [
       "True"
      ]
     },
     "execution_count": 31,
     "metadata": {},
     "output_type": "execute_result"
    }
   ],
   "source": [
    "set(full) == set(tr + te)"
   ]
  },
  {
   "cell_type": "markdown",
   "id": "8df53c97",
   "metadata": {},
   "source": [
    "## Adaptation"
   ]
  },
  {
   "cell_type": "code",
   "execution_count": 115,
   "id": "e0a81639",
   "metadata": {},
   "outputs": [],
   "source": [
    "target = \"cub\""
   ]
  },
  {
   "cell_type": "code",
   "execution_count": 116,
   "id": "976b0d3c",
   "metadata": {},
   "outputs": [],
   "source": [
    "index_path = \"/home/vessl/projects/dynamic-cdfsl/data/cache_cdfsl/{}_indices.npy\".format(target)\n",
    "map_path = \"/home/vessl/projects/dynamic-cdfsl/data/cache_cdfsl/{}_index_path_map.json\".format(target)\n",
    "train_path = \"/home/vessl/projects/dynamic-cdfsl/data/cache_cdfsl/{}_indices_partial_train_0.2_0.npy\".format(target)\n",
    "test_path = \"/home/vessl/projects/dynamic-cdfsl/data/cache_cdfsl/{}_indices_partial_test_0.2_0.npy\".format(target)\n",
    "\n",
    "train_dest_path = \"/home/vessl/projects/dynamic-cdfsl/data/cache_cdfsl_oh/{}_indices_partial_train_0.2_0.npy\".format(target)\n",
    "test_dest_path = \"/home/vessl/projects/dynamic-cdfsl/data/cache_cdfsl_oh/{}_indices_partial_test_0.2_0.npy\".format(target)\n",
    "\n",
    "oh_train_path = \"/home/vessl/projects/CD-FSL/datasets/split_seed_1/{}_unlabeled_20.csv\".format(target)\n",
    "oh_test_path = \"/home/vessl/projects/CD-FSL/datasets/split_seed_1/{}_labeled_80.csv\".format(target)"
   ]
  },
  {
   "cell_type": "code",
   "execution_count": 117,
   "id": "d6490643",
   "metadata": {
    "scrolled": true
   },
   "outputs": [],
   "source": [
    "full_index = np.load(index_path, allow_pickle=True).item()\n",
    "with open(map_path) as f:\n",
    "    path_map = json.load(f)\n",
    "\n",
    "def get_path_subset(path):\n",
    "    d = os.path.basename(os.path.dirname(path))\n",
    "    b = os.path.basename(path)\n",
    "    return os.path.join(d, b)\n",
    "\n",
    "path_map = {\n",
    "    int(k): get_path_subset(v) for k, v in path_map.items()\n",
    "}"
   ]
  },
  {
   "cell_type": "code",
   "execution_count": 118,
   "id": "3477d308",
   "metadata": {},
   "outputs": [],
   "source": [
    "oh_train = pd.read_csv(oh_train_path, usecols=[1])\n",
    "oh_test = pd.read_csv(oh_test_path, usecols=[1])"
   ]
  },
  {
   "cell_type": "code",
   "execution_count": 119,
   "id": "821b8aa2",
   "metadata": {},
   "outputs": [],
   "source": [
    "train_paths = list(oh_train.iloc[:,0])\n",
    "test_paths = list(oh_test.iloc[:,0])"
   ]
  },
  {
   "cell_type": "code",
   "execution_count": 120,
   "id": "9fc6f1c0",
   "metadata": {
    "scrolled": true
   },
   "outputs": [],
   "source": [
    "train_index = defaultdict(list)\n",
    "test_index = defaultdict(list)"
   ]
  },
  {
   "cell_type": "code",
   "execution_count": 121,
   "id": "898f894a",
   "metadata": {},
   "outputs": [],
   "source": [
    "for cls, indices in full_index.items():\n",
    "    for index in indices:\n",
    "        path = path_map[index]\n",
    "        if path in train_paths:\n",
    "            train_index[cls].append(index)\n",
    "        elif path in test_paths:\n",
    "            test_index[cls].append(index)\n",
    "        else:\n",
    "            warnings.warn(\"Invalid path,index: {},{}\".format(path, index))\n",
    "            \n",
    "train_index = dict(train_index)\n",
    "test_index = dict(test_index)"
   ]
  },
  {
   "cell_type": "code",
   "execution_count": 122,
   "id": "694bbf93",
   "metadata": {
    "scrolled": false
   },
   "outputs": [
    {
     "name": "stdout",
     "output_type": "stream",
     "text": [
      "New split files saved to:\n",
      "/home/vessl/projects/dynamic-cdfsl/data/cache_cdfsl_oh/cub_indices_partial_train_0.2_0.npy\n",
      "/home/vessl/projects/dynamic-cdfsl/data/cache_cdfsl_oh/cub_indices_partial_test_0.2_0.npy\n"
     ]
    }
   ],
   "source": [
    "os.makedirs(os.path.dirname(train_dest_path), exist_ok=True)\n",
    "os.makedirs(os.path.dirname(test_dest_path), exist_ok=True)\n",
    "np.save(train_dest_path, train_index)\n",
    "np.save(test_dest_path, test_index)\n",
    "print(\"New split files saved to:\")\n",
    "print(train_dest_path)\n",
    "print(test_dest_path)"
   ]
  }
 ],
 "metadata": {
  "kernelspec": {
   "display_name": "Python 3 (ipykernel)",
   "language": "python",
   "name": "python3"
  },
  "language_info": {
   "codemirror_mode": {
    "name": "ipython",
    "version": 3
   },
   "file_extension": ".py",
   "mimetype": "text/x-python",
   "name": "python",
   "nbconvert_exporter": "python",
   "pygments_lexer": "ipython3",
   "version": "3.9.7"
  }
 },
 "nbformat": 4,
 "nbformat_minor": 5
}
